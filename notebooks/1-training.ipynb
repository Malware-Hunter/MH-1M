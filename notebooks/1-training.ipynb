{
 "cells": [
  {
   "cell_type": "code",
   "execution_count": 30,
   "metadata": {},
   "outputs": [
    {
     "name": "stdout",
     "output_type": "stream",
     "text": [
      "2.0.3\n"
     ]
    }
   ],
   "source": [
    "import numpy as np\n",
    "import pandas as pd\n",
    "from pandas import DataFrame as dataframe\n",
    "import matplotlib.pyplot as plt\n",
    "import seaborn as sns\n",
    "import os\n",
    "from os.path import join\n",
    "from tqdm import tqdm\n",
    "\n",
    "from sklearn.model_selection import train_test_split\n",
    "from sklearn.ensemble import RandomForestClassifier\n",
    "from sklearn import metrics\n",
    "from sklearn.metrics import confusion_matrix, classification_report\n",
    "from sklearn.inspection import permutation_importance\n",
    "from sklearn.preprocessing import OneHotEncoder\n",
    "# import shap\n",
    "\n",
    "import xgboost\n",
    "print(xgboost.__version__)\n",
    "from xgboost import XGBClassifier\n",
    "\n",
    "import pickle\n",
    "import time\n",
    "\n",
    "!export PYTHONPATH=\"/home/hendrio/amex-1M/:$PYTHONPATH\"\n",
    "!export PYTHONPATH=\"/home/hendrio/amex-1M/src/:$PYTHONPATH\"\n",
    "\n",
    "\n",
    "# import sys\n",
    "# sys.path.append('/home/hendrio/amex-1M/')\n",
    "# sys.path.append('/home/hendrio/amex-1M/src/')\n",
    "\n",
    "import trainer"
   ]
  },
  {
   "cell_type": "code",
   "execution_count": 16,
   "metadata": {},
   "outputs": [],
   "source": [
    "base_dir = \"/home/hendrio/amex-1M/\"\n",
    "os.listdir(base_dir)\n",
    "\n",
    "paths={\n",
    "    'data': join(base_dir, 'data'),\n",
    "    'src': join(base_dir, 'data', 'src'),\n",
    "    'processed': join(base_dir, 'data', 'processed'),\n",
    "    'datasets': join(base_dir, 'datasets1'),\n",
    "    'results': join(base_dir,'results'),\n",
    "    'images': join(base_dir,'images'),\n",
    "    \n",
    "}"
   ]
  },
  {
   "cell_type": "code",
   "execution_count": 48,
   "metadata": {},
   "outputs": [],
   "source": [
    "def load_amex_1m(path, file_name='amex-1M_binary-dataset-[intents-permissions-apicalls].npz'):\n",
    "    data_dict = np.load(join(path, file_name), allow_pickle=True)\n",
    "    metadata = dataframe(data_dict['metadata'], columns=data_dict['metadata_feature_names'])\n",
    "    \n",
    "    columns_names = data_dict['feature_names']\n",
    "    sha256 = data_dict['sha256']\n",
    "\n",
    "    print(data_dict['data'].shape)\n",
    "\n",
    "    if (\"CLASS\" not in metadata.columns):\n",
    "        print()\n",
    "        metadata['CLASS'] = create_class(df=metadata['VT_SCANNERS_MALICIOUS'], threshold=4)\n",
    "    print(metadata['CLASS'].value_counts())\n",
    "\n",
    "    return data_dict['data'], metadata, columns_names, sha256\n",
    "\n",
    "\n",
    "def create_class(df, threshold):\n",
    "    return np.asarray([1 if i>=threshold else 0 for i in df ])"
   ]
  },
  {
   "cell_type": "code",
   "execution_count": 51,
   "metadata": {},
   "outputs": [],
   "source": [
    "dataset_name = 'amex-1M_binary-dataset-[intents-permissions]'"
   ]
  },
  {
   "cell_type": "code",
   "execution_count": 52,
   "metadata": {},
   "outputs": [
    {
     "name": "stdout",
     "output_type": "stream",
     "text": [
      "(1340515, 416)\n",
      "CLASS\n",
      "0    1221421\n",
      "1     119094\n",
      "Name: count, dtype: int64\n"
     ]
    }
   ],
   "source": [
    "data, metadata, columns_names, sha256 = load_amex_1m(\n",
    "    path=paths['processed'], \n",
    "    file_name=f'{dataset_name}.npz'\n",
    "    )"
   ]
  },
  {
   "cell_type": "code",
   "execution_count": 53,
   "metadata": {},
   "outputs": [],
   "source": [
    "def create_datasets(data, metadata):\n",
    "\n",
    "    X_train, X_test, y_train, y_test = train_test_split( \n",
    "        data, metadata, \n",
    "        test_size=0.30, \n",
    "        random_state=0, \n",
    "        shuffle=True\n",
    "    )\n",
    "    \n",
    "    print(X_train.shape, X_test.shape, y_train.shape, y_test.shape)\n",
    "\n",
    "    encoder_binary = OneHotEncoder().fit(np.expand_dims(metadata['CLASS'].values, axis=1))\n",
    "    \n",
    "    data_dict = {\n",
    "        'X_train': X_train,\n",
    "        'y_train_metadata': y_train,\n",
    "        'y_train_ohe': encoder_binary.transform(np.expand_dims(y_train['CLASS'].values, axis=1)).toarray(),\n",
    "        'X_test': X_test,\n",
    "        'y_test_metadata': y_test,\n",
    "        'y_test_ohe': encoder_binary.transform(np.expand_dims(y_test['CLASS'].values, axis=1)).toarray(),\n",
    "        'classes_names': ['Benign', 'Malware']\n",
    "    }\n",
    "    \n",
    "    return data_dict"
   ]
  },
  {
   "cell_type": "code",
   "execution_count": 54,
   "metadata": {},
   "outputs": [
    {
     "name": "stdout",
     "output_type": "stream",
     "text": [
      "(938360, 416) (402155, 416) (938360, 12) (402155, 12)\n"
     ]
    }
   ],
   "source": [
    "data_dict = create_datasets(data, metadata)"
   ]
  },
  {
   "cell_type": "code",
   "execution_count": null,
   "metadata": {},
   "outputs": [],
   "source": [
    "model, time_duration = trainer.train( \n",
    "                X=X_train.values , \n",
    "                y=data_dict['y_train_ohe'].toarray(), \n",
    "                model_name=model_name)"
   ]
  },
  {
   "cell_type": "code",
   "execution_count": null,
   "metadata": {},
   "outputs": [],
   "source": [
    "trainer.save_model(\n",
    "    model=model, \n",
    "    directory=experiment_path, \n",
    "    filename= experiment_name,\n",
    "    extension=extension\n",
    "    )\n",
    "\n",
    "with open(join(experiment_path, f'{experiment_name}-time.txt'), 'w') as file:\n",
    "    file.write(f'{time_duration:.4f}')\n",
    "print(f\"\\tEvaluating {model_name}\")"
   ]
  },
  {
   "cell_type": "code",
   "execution_count": null,
   "metadata": {},
   "outputs": [],
   "source": [
    "        pred, cm, report = trainer.eval(\n",
    "            X=X_test.values, \n",
    "            # y_true=np.argmax(y_test, axis=1), \n",
    "            y_true=data_dict['y_test_ohe'].toarray(), \n",
    "            model=model,\n",
    "            class_labels=data_dict['classes_names'],\n",
    "            dataset_name=dataset_name,\n",
    "            model_name=model_name,\n",
    "            path_save=experiment_path\n",
    "        )\n",
    "\n",
    "        gc.collect()"
   ]
  },
  {
   "cell_type": "code",
   "execution_count": 55,
   "metadata": {},
   "outputs": [],
   "source": [
    "import gc\n",
    "import trainer\n",
    "def pipeline_train_models(\n",
    "    data_dict, models_list, dataset_name='amex-1M', sufix_title='original', path_save=join(base_dir, 'models'), feature_list=None):\n",
    "\n",
    "    # for dataset_name in datasets.keys():\n",
    "    #     print(f'Dataset name: {dataset_name}')\n",
    "    for model_name in models_list:\n",
    "        print()\n",
    "        print()\n",
    "        print(f'=========================================================================')\n",
    "        print(f'===================== Model name: {model_name} ==========================')\n",
    "        print(f'=========================================================================')\n",
    "        \n",
    "        experiment_name = f'{dataset_name}-{model_name}-{sufix_title}'\n",
    "        print('\\t',experiment_name)\n",
    "        experiment_path = join(path_save, experiment_name)\n",
    "        \n",
    "        if os.path.exists(experiment_path):\n",
    "            print(f\"\\tExperiment already exists. \")\n",
    "            print(f'\\t============================================================================================')\n",
    "            print(f'\\t====================== Skipping {experiment_name} =====================')\n",
    "            print(f'\\t============================================================================================')\n",
    "            continue\n",
    "        else:\n",
    "            os.makedirs(experiment_path)\n",
    "\n",
    "        X_train, X_test = [], []\n",
    "        if feature_list is not None:\n",
    "            X_train = data_dict['X_train'][feature_list]\n",
    "            X_test = data_dict['X_test'][feature_list]\n",
    "        else:\n",
    "            X_train = data_dict['X_train']\n",
    "            X_test = data_dict['X_test']\n",
    "        print(f'\\tDataset shape: Train {X_train.shape}, Test {X_test.shape}')\n",
    "\n",
    "        print(f\"\\tTraining {model_name}\")\n",
    "        model=[]\n",
    "        extension='.joblib'\n",
    "        if model_name=='xgboost':\n",
    "            model, time_duration = trainer.train( \n",
    "                X=X_train , y=data_dict['y_train_ohe'], model_name=model_name)\n",
    "            extension='.joblib'\n",
    "        elif model_name=='randomforest':\n",
    "            model, time_duration = trainer.train( \n",
    "                X=X_train, y=data_dict['y_train_ohe'], model_name=model_name)\n",
    "            extension='.joblib'\n",
    "        elif model_name=='svm':\n",
    "            model, time_duration = trainer.train( \n",
    "                X=X_train, y=data_dict['y_train_ohe'], model_name=model_name)\n",
    "            extension='.joblib'\n",
    "        elif model_name=='knn':\n",
    "            model, time_duration = trainer.train( \n",
    "                X=X_train, y=data_dict['y_train_ohe'], model_name=model_name)\n",
    "            extension='.joblib'\n",
    "        elif model_name=='fcn':\n",
    "            model, time_duration = trainer.build_deep_model(\n",
    "                X=X_train, y=data_dict['y_train_ohe'], \n",
    "                num_classes=len(data_dict['classes_names']), \n",
    "                model_name=experiment_name, \n",
    "                path_experiment=experiment_path)\n",
    "            extension='.h5'\n",
    "\n",
    "            model = tf.keras.models.load_model(join(experiment_path, f'{experiment_name}_loss.keras'))\n",
    "        else:\n",
    "            raise Exception (f'Model Not Found on pipeline_train_models()')\n",
    "            os.remove(experiment_path)\n",
    "            return []\n",
    "\n",
    "        trainer.save_model(\n",
    "            model=model, \n",
    "            directory=experiment_path, \n",
    "            filename= experiment_name,\n",
    "            # extension=extension\n",
    "            )\n",
    "        \n",
    "        with open(join(experiment_path, f'{experiment_name}-time.txt'), 'w') as file:\n",
    "            file.write(f'{time_duration:.4f}')\n",
    "        print(f\"\\tEvaluating {model_name}\")\n",
    "        \n",
    "        pred, cm, report = trainer.eval(\n",
    "            X=X_test, \n",
    "            # y_true=np.argmax(y_test, axis=1), \n",
    "            y_true=data_dict['y_test_ohe'], \n",
    "            model=model,\n",
    "            class_labels=data_dict['classes_names'],\n",
    "            dataset_name=dataset_name,\n",
    "            model_name=model_name,\n",
    "            path_save=experiment_path\n",
    "        )\n",
    "\n",
    "        gc.collect()\n",
    "\n",
    "        print('---------------------------------------------------------------------------------------------------------------')\n",
    "        print('')\n",
    "        print('')"
   ]
  },
  {
   "cell_type": "code",
   "execution_count": 46,
   "metadata": {},
   "outputs": [
    {
     "data": {
      "text/plain": [
       "'amex-1M_binary-dataset-[intents]'"
      ]
     },
     "execution_count": 46,
     "metadata": {},
     "output_type": "execute_result"
    }
   ],
   "source": [
    "dataset_name"
   ]
  },
  {
   "cell_type": "code",
   "execution_count": 56,
   "metadata": {},
   "outputs": [
    {
     "name": "stdout",
     "output_type": "stream",
     "text": [
      "\n",
      "\n",
      "=========================================================================\n",
      "===================== Model name: xgboost ==========================\n",
      "=========================================================================\n",
      "\t amex-1M_binary-dataset-[intents-permissions]-xgboost-\n",
      "\tDataset shape: Train (938360, 416), Test (402155, 416)\n",
      "\tTraining xgboost\n",
      "Took 49.4781 seconds to train the xgboost\n",
      "\tEvaluating xgboost\n",
      "(402155,) (402155,)\n",
      "\n",
      "              precision    recall  f1-score   support\n",
      "\n",
      "           0     0.9108    1.0000    0.9533    366286\n",
      "           1     0.0000    0.0000    0.0000     35869\n",
      "\n",
      "    accuracy                         0.9108    402155\n",
      "   macro avg     0.4554    0.5000    0.4767    402155\n",
      "weighted avg     0.8296    0.9108    0.8683    402155\n",
      "\n",
      "---------------------------------------------------------------------------------------------------------------\n",
      "\n",
      "\n"
     ]
    },
    {
     "data": {
      "image/png": "[encoded data removed]",
      "text/plain": [
       "<Figure size 300x300 with 1 Axes>"
      ]
     },
     "metadata": {},
     "output_type": "display_data"
    }
   ],
   "source": [
    "pipeline_train_models(\n",
    "    data_dict=data_dict, \n",
    "    models_list=['xgboost'], #'knn', 'svm'\n",
    "    dataset_name='amex-1M_binary-dataset-[intents-permissions]', \n",
    "    sufix_title='', \n",
    "    path_save=join(base_dir, 'results', 'models'),\n",
    "    feature_list = None\n",
    ")"
   ]
  },
  {
   "cell_type": "code",
   "execution_count": null,
   "metadata": {},
   "outputs": [],
   "source": []
  }
 ],
 "metadata": {
  "kernelspec": {
   "display_name": "mh",
   "language": "python",
   "name": "python3"
  },
  "language_info": {
   "codemirror_mode": {
    "name": "ipython",
    "version": 3
   },
   "file_extension": ".py",
   "mimetype": "text/x-python",
   "name": "python",
   "nbconvert_exporter": "python",
   "pygments_lexer": "ipython3",
   "version": "3.12.0"
  }
 },
 "nbformat": 4,
 "nbformat_minor": 2
}
