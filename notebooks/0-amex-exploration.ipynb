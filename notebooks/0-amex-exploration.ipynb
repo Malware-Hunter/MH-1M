{
 "cells": [
  {
   "cell_type": "code",
   "execution_count": 7,
   "metadata": {},
   "outputs": [],
   "source": [
    "import os\n",
    "from os.path import join\n",
    "import tqdm\n",
    "\n",
    "import numpy as np\n",
    "import pandas as pd\n",
    "from pandas import DataFrame as dataframe"
   ]
  },
  {
   "cell_type": "code",
   "execution_count": 10,
   "metadata": {},
   "outputs": [],
   "source": [
    "# root_dir =\"/\"\n",
    "base_dir = join('/', 'home', 'hendrio', 'amex-1M')\n",
    "paths = {\n",
    "    # 'root':root_dir,\n",
    "    'base': base_dir,\n",
    "    'processed': join(base_dir, 'data', 'processed'),\n",
    "    'temp': join(base_dir, 'data', 'temp'),\n",
    "    'amex': join(base_dir, 'data', 'processed', 'amex-1M_binary-dataset-[intents-permissions-apicalls].npz'),\n",
    "\n",
    "}"
   ]
  },
  {
   "cell_type": "code",
   "execution_count": 11,
   "metadata": {},
   "outputs": [
    {
     "name": "stdout",
     "output_type": "stream",
     "text": [
      "KeysView(NpzFile '/home/hendrio/amex-1M/data/processed/amex-1M_binary-dataset-[intents-permissions-apicalls].npz' with keys: data, sha256, feature_names, metadata, metadata_feature_names)\n"
     ]
    }
   ],
   "source": [
    "amex_dict = np.load(paths['amex'])\n",
    "\n",
    "print(amex_dict.keys())"
   ]
  },
  {
   "cell_type": "code",
   "execution_count": null,
   "metadata": {},
   "outputs": [],
   "source": []
  }
 ],
 "metadata": {
  "kernelspec": {
   "display_name": "mh",
   "language": "python",
   "name": "python3"
  },
  "language_info": {
   "codemirror_mode": {
    "name": "ipython",
    "version": 3
   },
   "file_extension": ".py",
   "mimetype": "text/x-python",
   "name": "python",
   "nbconvert_exporter": "python",
   "pygments_lexer": "ipython3",
   "version": "3.12.0"
  }
 },
 "nbformat": 4,
 "nbformat_minor": 2
}
