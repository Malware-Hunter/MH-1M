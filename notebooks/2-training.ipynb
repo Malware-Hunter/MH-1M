{
 "cells": [
  {
   "cell_type": "markdown",
   "metadata": {},
   "source": [
    "# Configuration"
   ]
  },
  {
   "cell_type": "code",
   "execution_count": 10,
   "metadata": {},
   "outputs": [
    {
     "name": "stdout",
     "output_type": "stream",
     "text": [
      "2.0.3\n"
     ]
    }
   ],
   "source": [
    "import numpy as np\n",
    "import pandas as pd\n",
    "from pandas import DataFrame as dataframe\n",
    "import matplotlib.pyplot as plt\n",
    "import seaborn as sns\n",
    "import os\n",
    "from os.path import join\n",
    "from tqdm import tqdm\n",
    "\n",
    "from sklearn.model_selection import train_test_split\n",
    "from sklearn.ensemble import RandomForestClassifier\n",
    "from sklearn import metrics\n",
    "from sklearn.metrics import confusion_matrix, classification_report\n",
    "from sklearn.inspection import permutation_importance\n",
    "from sklearn.preprocessing import OneHotEncoder\n",
    "# import shap\n",
    "\n",
    "import xgboost\n",
    "print(xgboost.__version__)\n",
    "from xgboost import XGBClassifier\n",
    "\n",
    "import pickle\n",
    "import time\n",
    "import json\n",
    "\n",
    "!export PYTHONPATH=\"/home/hendrio/amex-1M/:$PYTHONPATH\"\n",
    "!export PYTHONPATH=\"/home/hendrio/amex-1M/src/:$PYTHONPATH\"\n",
    "\n",
    "\n",
    "import sys\n",
    "sys.path.append('/home/hendrio/amex-1M/')\n",
    "sys.path.append('/home/hendrio/amex-1M/src/')\n",
    "\n",
    "# import trainer\n"
   ]
  },
  {
   "cell_type": "code",
   "execution_count": 11,
   "metadata": {},
   "outputs": [],
   "source": [
    "base_dir = \"/home/hendrio/amex-1M/\"\n",
    "os.listdir(base_dir)\n",
    "\n",
    "paths={\n",
    "    'data': join(base_dir, 'data'),\n",
    "    'src': join(base_dir, 'data', 'src'),\n",
    "    'processed': join(base_dir, 'data', 'processed'),\n",
    "    'datasets': join(base_dir, 'datasets1'),\n",
    "    'results': join(base_dir,'results'),\n",
    "    'images': join(base_dir,'images'),\n",
    "    \n",
    "}\n"
   ]
  },
  {
   "cell_type": "markdown",
   "metadata": {},
   "source": [
    "# Load Dataset"
   ]
  },
  {
   "cell_type": "code",
   "execution_count": 12,
   "metadata": {},
   "outputs": [],
   "source": [
    "def load_amex_1m(path, file_name='amex-1M_binary-dataset-[intents-permissions-apicalls].npz'):\n",
    "    data = np.load(join(path, file_name), allow_pickle=True)\n",
    "    metadata = dataframe(data['metadata'], columns=data['metadata_columns'])\n",
    "    \n",
    "    columns_names = data['column_names']\n",
    "    sha256 = data['sha256']\n",
    "\n",
    "    labels_ohe = OneHotEncoder().fit_transform(np.expand_dims(metadata['CLASS'].values, axis=1)).toarray()\n",
    "\n",
    "    print(data['data'].shape, labels_ohe.shape)\n",
    "\n",
    "    # if (\"CLASS\" not in metadata.columns):\n",
    "    #     print()\n",
    "    #     metadata['CLASS'] = create_class(df=metadata['VT_SCANNERS_MALICIOUS'], threshold=4)\n",
    "    \n",
    "    print(metadata['CLASS'].value_counts())\n",
    "\n",
    "    return data['data'], labels_ohe, metadata, columns_names, sha256\n",
    "\n",
    "\n",
    "def create_class(df, threshold):\n",
    "    return np.asarray([1 if i>=threshold else 0 for i in df ])"
   ]
  },
  {
   "cell_type": "code",
   "execution_count": 13,
   "metadata": {},
   "outputs": [],
   "source": [
    "dataset_name = 'amex-1M-[intents-permissions-opcodes]'"
   ]
  },
  {
   "cell_type": "code",
   "execution_count": 14,
   "metadata": {},
   "outputs": [
    {
     "name": "stdout",
     "output_type": "stream",
     "text": [
      "(1340515, 853) (1340515, 2)\n",
      "CLASS\n",
      "0    1221421\n",
      "1     119094\n",
      "Name: count, dtype: int64\n"
     ]
    }
   ],
   "source": [
    "data, labels_ohe, metadata, columns_names, sha256 = load_amex_1m(\n",
    "    path=paths['processed'], \n",
    "    file_name=f'{dataset_name}.npz'\n",
    "    )"
   ]
  },
  {
   "cell_type": "markdown",
   "metadata": {},
   "source": [
    "# Eval"
   ]
  },
  {
   "cell_type": "code",
   "execution_count": 15,
   "metadata": {},
   "outputs": [],
   "source": [
    "import numpy as np\n",
    "import pandas as pd\n",
    "from sklearn.model_selection import StratifiedKFold\n",
    "from sklearn.metrics import confusion_matrix, classification_report\n",
    "from sklearn.base import clone\n",
    "from scipy import stats\n",
    "\n",
    "import trainer\n",
    "\n",
    "def stratified_k_fold_evaluation(model, data, labels_ohe, k=10, path_save=None, dir_name=None):\n",
    "    skf = StratifiedKFold(n_splits=k, shuffle=True, random_state=0)\n",
    "    confusion_matrices, classification_reports = [], []\n",
    "    folds_report, cm_report = {}, {}\n",
    "\n",
    "    fold = 1\n",
    "\n",
    "    if path_save is not None:\n",
    "        if dir_name is None:\n",
    "            raise Exception(\"Provid a 'dir_name' parameter to save results. \")\n",
    "        \n",
    "        os.makedirs(join(path_save, dir_name), exist_ok=True)\n",
    "        os.makedirs(join(path_save, dir_name, 'KFold'), exist_ok=True)\n",
    "\n",
    "    for train_index, test_index in skf.split(data, np.argmax(labels_ohe, axis=1)):\n",
    "        print(f'fold {fold}')\n",
    "        X_train, X_test = data[train_index], data[test_index]\n",
    "        y_train, y_test = labels_ohe[train_index], labels_ohe[test_index]\n",
    "\n",
    "        # Clone the model to ensure a fresh model for each fold\n",
    "        model_fold = clone(model)\n",
    "        model_fold.fit(X_train, y_train)\n",
    "        y_pred = model_fold.predict(X_test)\n",
    "\n",
    "        # Calculate confusion matrix and classification report\n",
    "        cm = confusion_matrix(np.argmax(y_test, axis=1), np.argmax(y_pred, axis=1))\n",
    "        report = classification_report(np.argmax(y_test, axis=1), np.argmax(y_pred, axis=1), output_dict=True)\n",
    "        print(cm)\n",
    "        print(report)\n",
    "        confusion_matrices.append(cm)\n",
    "        classification_reports.append(report)\n",
    "        folds_report[f'fold-{fold}'] = report\n",
    "        cm_report[f'fold-{fold}'] = cm.tolist()\n",
    "\n",
    "        # pd.DataFrame(cm).to_csv(join(path_save, dir_name, 'KFold', f'confusion_matrix_fold_{fold}.csv'))\n",
    "        # pd.DataFrame(report).to_csv(join(path_save, dir_name, 'KFold', f'classification_report_fold_{fold}.csv'))\n",
    "        \n",
    "        fold += 1\n",
    "\n",
    "    with open(join(path_save, dir_name, 'KFold', f'classification_report_folds.json'), 'w') as f:\n",
    "        json.dump(folds_report, f, indent=4)\n",
    "\n",
    "    with open(join(path_save, dir_name, 'KFold', f'cm_folds.json'), 'w') as f:\n",
    "        json.dump(cm_report, f, indent=4)\n",
    "\n",
    "    # Aggregate confusion matrices and classification reports\n",
    "    # final_confusion_matrix = np.mean(confusion_matrices, axis=0)\n",
    "    # Using SUM\n",
    "    final_confusion_matrix = np.sum(confusion_matrices, axis=0)\n",
    "\n",
    "    print(f'confusion matrix for fold {fold}')\n",
    "    print(final_confusion_matrix)\n",
    "    \n",
    "    trainer.plot_confusion_matrix(\n",
    "        final_confusion_matrix, \n",
    "        class_labels=['Benign', 'Malware'], \n",
    "        path_save=os.path.join(path_save, f'{dir_name}-confusion_matrix')\n",
    "        )\n",
    "\n",
    "    final_classification_report = {}\n",
    "\n",
    "    # Calculate mean and confidence intervals for each metric\n",
    "    for key in classification_reports[0].keys():\n",
    "        metrics = [report[key] for report in classification_reports]\n",
    "        if isinstance(metrics[0], dict):  # Handle nested dicts for per-class metrics\n",
    "            final_classification_report[key] = {}\n",
    "            for metric in metrics[0].keys():\n",
    "                \n",
    "                if metric==\"support\": ## does not aggregate support information\n",
    "                    continue\n",
    "\n",
    "                values = [m[metric] for m in metrics]\n",
    "                mean = np.mean(values)\n",
    "                std_dev = np.std(values)\n",
    "                conf_int = stats.t.interval(0.95, len(values)-1, loc=mean, scale=stats.sem(values))\n",
    "                margin = conf_int[1] - mean\n",
    "                final_classification_report[key][metric] = {\n",
    "                    'mean': mean,\n",
    "                    'std_dev': std_dev,\n",
    "                    '95% CI': conf_int,\n",
    "                    'margin': margin\n",
    "                }\n",
    "        else:\n",
    "            values = metrics\n",
    "            mean = np.mean(values)\n",
    "            std_dev = np.std(values)\n",
    "            conf_int = stats.t.interval(0.95, len(values)-1, loc=mean, scale=stats.sem(values))\n",
    "            margin = conf_int[1] - mean\n",
    "            final_classification_report[key] = {\n",
    "                'mean': mean,\n",
    "                'std_dev': std_dev,\n",
    "                '95% CI': conf_int,\n",
    "                'margin': margin\n",
    "            }\n",
    "    if path_save is not None:\n",
    "        # Save final aggregated results\n",
    "        pd.DataFrame(final_confusion_matrix).to_csv(join(path_save, dir_name,'final_confusion_matrix.csv'))\n",
    "        pd.DataFrame(final_classification_report).to_csv(join(path_save, dir_name,'final_classification_report.csv'))\n",
    "        with open(os.path.join(path_save, f'{dir_name}-report.json'), 'w') as f:\n",
    "            json.dump(final_classification_report, f, indent=4)\n",
    "\n",
    "    return final_confusion_matrix, final_classification_report\n",
    "\n",
    "\n",
    "# Example usage:\n",
    "# from sklearn.ensemble import RandomForestClassifier\n",
    "# model = RandomForestClassifier()\n",
    "# data = np.random.rand(100, 10)  # Example data\n",
    "# labels_ohe = np.eye(3)[np.random.choice(3, 100)]  # Example one-hot encoded labels\n",
    "# stratified_k_fold_evaluation(model, data, labels_ohe)\n"
   ]
  },
  {
   "cell_type": "code",
   "execution_count": 16,
   "metadata": {},
   "outputs": [
    {
     "name": "stdout",
     "output_type": "stream",
     "text": [
      "amex-1M-[intents-permissions-opcodes]\n"
     ]
    }
   ],
   "source": [
    "print(dataset_name)"
   ]
  },
  {
   "cell_type": "code",
   "execution_count": 17,
   "metadata": {},
   "outputs": [
    {
     "name": "stdout",
     "output_type": "stream",
     "text": [
      "fold 1\n",
      "[[121287    856]\n",
      " [  2507   9402]]\n",
      "{'0': {'precision': 0.9797486146339888, 'recall': 0.9929918210621976, 'f1-score': 0.9863257663547982, 'support': 122143.0}, '1': {'precision': 0.9165529342951843, 'recall': 0.7894869426484171, 'f1-score': 0.8482879956692381, 'support': 11909.0}, 'accuracy': 0.9749127204368454, 'macro avg': {'precision': 0.9481507744645865, 'recall': 0.8912393818553074, 'f1-score': 0.9173068810120182, 'support': 134052.0}, 'weighted avg': {'precision': 0.9741343950986233, 'recall': 0.9749127204368454, 'f1-score': 0.9740626758295219, 'support': 134052.0}}\n",
      "fold 2\n",
      "[[121296    846]\n",
      " [  2467   9443]]\n",
      "{'0': {'precision': 0.9800667404636281, 'recall': 0.9930736356044604, 'f1-score': 0.9865273174599947, 'support': 122142.0}, '1': {'precision': 0.9177762659150549, 'recall': 0.792863140218304, 'f1-score': 0.8507590432001442, 'support': 11910.0}, 'accuracy': 0.9752857100229761, 'macro avg': {'precision': 0.9489215031893414, 'recall': 0.8929683879113821, 'f1-score': 0.9186431803300694, 'support': 134052.0}, 'weighted avg': {'precision': 0.9745324735233846, 'recall': 0.9752857100229761, 'f1-score': 0.9744648331521528, 'support': 134052.0}}\n",
      "fold 3\n",
      "[[121308    834]\n",
      " [  2569   9341]]\n",
      "{'0': {'precision': 0.9792616869959718, 'recall': 0.9931718819079433, 'f1-score': 0.9861677350123365, 'support': 122142.0}, '1': {'precision': 0.918034398034398, 'recall': 0.7842989084802687, 'f1-score': 0.8459135159610596, 'support': 11910.0}, 'accuracy': 0.9746143287679409, 'macro avg': {'precision': 0.9486480425151849, 'recall': 0.8887353951941059, 'f1-score': 0.916040625486698, 'support': 134052.0}, 'weighted avg': {'precision': 0.9738218799693527, 'recall': 0.9746143287679409, 'f1-score': 0.9737066919178604, 'support': 134052.0}}\n",
      "fold 4\n",
      "[[121332    810]\n",
      " [  2570   9340]]\n",
      "{'0': {'precision': 0.9792578005197656, 'recall': 0.9933683745149089, 'f1-score': 0.9862626196940385, 'support': 122142.0}, '1': {'precision': 0.9201970443349754, 'recall': 0.7842149454240135, 'f1-score': 0.8467815049864007, 'support': 11910.0}, 'accuracy': 0.9747859039775609, 'macro avg': {'precision': 0.9497274224273705, 'recall': 0.8887916599694612, 'f1-score': 0.9165220623402196, 'support': 134052.0}, 'weighted avg': {'precision': 0.974010481522952, 'recall': 0.9747859039775609, 'f1-score': 0.9738702639203988, 'support': 134052.0}}\n",
      "fold 5\n",
      "[[121360    782]\n",
      " [  2482   9428]]\n",
      "{'0': {'precision': 0.9799583340062338, 'recall': 0.9935976158897022, 'f1-score': 0.986730844282555, 'support': 122142.0}, '1': {'precision': 0.9234084231145936, 'recall': 0.7916036943744752, 'f1-score': 0.8524412296564196, 'support': 11910.0}, 'accuracy': 0.9756512398173843, 'macro avg': {'precision': 0.9516833785604137, 'recall': 0.8926006551320886, 'f1-score': 0.9195860369694873, 'support': 134052.0}, 'weighted avg': {'precision': 0.9749340938701714, 'recall': 0.9756512398173843, 'f1-score': 0.9747997331451063, 'support': 134052.0}}\n",
      "fold 6\n",
      "[[121306    836]\n",
      " [  2471   9438]]\n",
      "{'0': {'precision': 0.9800366788660252, 'recall': 0.9931555075240294, 'f1-score': 0.9865524827280527, 'support': 122142.0}, '1': {'precision': 0.9186295503211992, 'recall': 0.7925098664875304, 'f1-score': 0.8509218771131046, 'support': 11909.0}, 'accuracy': 0.9753302847423742, 'macro avg': {'precision': 0.9493331145936121, 'recall': 0.8928326870057799, 'f1-score': 0.9187371799205787, 'support': 134051.0}, 'weighted avg': {'precision': 0.9745813111787992, 'recall': 0.9753302847423742, 'f1-score': 0.9745031516356445, 'support': 134051.0}}\n",
      "fold 7\n",
      "[[121314    828]\n",
      " [  2509   9400]]\n",
      "{'0': {'precision': 0.9797372055272445, 'recall': 0.9932210050596846, 'f1-score': 0.9864330290895046, 'support': 122142.0}, '1': {'precision': 0.9190457567461869, 'recall': 0.7893190024351331, 'f1-score': 0.8492569002123143, 'support': 11909.0}, 'accuracy': 0.9751064893212285, 'macro avg': {'precision': 0.9493914811367157, 'recall': 0.8912700037474088, 'f1-score': 0.9178449646509095, 'support': 134051.0}, 'weighted avg': {'precision': 0.9743454183452495, 'recall': 0.9751064893212285, 'f1-score': 0.9742463947578066, 'support': 134051.0}}\n",
      "fold 8\n",
      "[[121343    799]\n",
      " [  2467   9442]]\n",
      "{'0': {'precision': 0.98007430740651, 'recall': 0.9934584336264348, 'f1-score': 0.9867209862086911, 'support': 122142.0}, '1': {'precision': 0.9219802753637341, 'recall': 0.7928457469140986, 'f1-score': 0.85255079006772, 'support': 11909.0}, 'accuracy': 0.9756361384846066, 'macro avg': {'precision': 0.9510272913851221, 'recall': 0.8931520902702668, 'f1-score': 0.9196358881382056, 'support': 134051.0}, 'weighted avg': {'precision': 0.9749132729673978, 'recall': 0.9756361384846066, 'f1-score': 0.9748013969043008, 'support': 134051.0}}\n",
      "fold 9\n",
      "[[121344    798]\n",
      " [  2466   9443]]\n",
      "{'0': {'precision': 0.9800823842985219, 'recall': 0.9934666208183917, 'f1-score': 0.9867291178766588, 'support': 122142.0}, '1': {'precision': 0.922077922077922, 'recall': 0.7929297170207407, 'f1-score': 0.8526410835214447, 'support': 11909.0}, 'accuracy': 0.9756510581793496, 'macro avg': {'precision': 0.951080153188222, 'recall': 0.8931981689195662, 'f1-score': 0.9196851006990518, 'support': 134051.0}, 'weighted avg': {'precision': 0.9749293071817147, 'recall': 0.9756510581793496, 'f1-score': 0.974816827769638, 'support': 134051.0}}\n",
      "fold 10\n",
      "[[121422    720]\n",
      " [  2626   9283]]\n",
      "{'0': {'precision': 0.9788307751837998, 'recall': 0.9941052217910301, 'f1-score': 0.9864088711970429, 'support': 122142.0}, '1': {'precision': 0.9280215935219435, 'recall': 0.7794944999580149, 'f1-score': 0.847298284045272, 'support': 11909.0}, 'accuracy': 0.9750393506948848, 'macro avg': {'precision': 0.9534261843528716, 'recall': 0.8867998608745224, 'f1-score': 0.9168535776211575, 'support': 134051.0}, 'weighted avg': {'precision': 0.9743169219159312, 'recall': 0.9750393506948848, 'f1-score': 0.9740503809031216, 'support': 134051.0}}\n",
      "confusion matrix for fold 11\n",
      "[[1213312    8109]\n",
      " [  25134   93960]]\n"
     ]
    },
    {
     "data": {
      "text/plain": [
       "(array([[1213312,    8109],\n",
       "        [  25134,   93960]]),\n",
       " {'0': {'precision': {'mean': 0.979705452790169,\n",
       "    'std_dev': 0.00041803973820660304,\n",
       "    '95% CI': (0.9793902289274551, 0.9800206766528828),\n",
       "    'margin': 0.0003152238627138759},\n",
       "   'recall': {'mean': 0.9933610117798782,\n",
       "    'std_dev': 0.0003077368002209771,\n",
       "    '95% CI': (0.9931289621109137, 0.9935930614488427),\n",
       "    'margin': 0.00023204966896450685},\n",
       "   'f1-score': {'mean': 0.9864858769903672,\n",
       "    'std_dev': 0.00019131686579204775,\n",
       "    '95% CI': (0.986341614050925, 0.9866301399298093),\n",
       "    'margin': 0.0001442629394421413}},\n",
       "  '1': {'precision': {'mean': 0.9205724163725192,\n",
       "    'std_dev': 0.0032317849823710384,\n",
       "    '95% CI': (0.9181354811902942, 0.9230093515547442),\n",
       "    'margin': 0.0024369351822249863},\n",
       "   'recall': {'mean': 0.7889566463960996,\n",
       "    'std_dev': 0.004471311942368061,\n",
       "    '95% CI': (0.785585042950172, 0.7923282498420273),\n",
       "    'margin': 0.0033716034459276845},\n",
       "   'f1-score': {'mean': 0.8496852224433118,\n",
       "    'std_dev': 0.002402438270543706,\n",
       "    '95% CI': (0.8478736581293034, 0.8514967867573202),\n",
       "    'margin': 0.001811564314008418}},\n",
       "  'accuracy': {'mean': 0.9752013224445152,\n",
       "   'std_dev': 0.00035399982581795853,\n",
       "   '95% CI': (0.9749343880306408, 0.9754682568583896),\n",
       "   'margin': 0.00026693441387437566},\n",
       "  'macro avg': {'precision': {'mean': 0.950138934581344,\n",
       "    'std_dev': 0.0015460091298586513,\n",
       "    '95% CI': (0.9489731627056949, 0.9513047064569932),\n",
       "    'margin': 0.0011657718756491464},\n",
       "   'recall': {'mean': 0.8911588290879889,\n",
       "    'std_dev': 0.0021629409795024947,\n",
       "    '95% CI': (0.8895278582781182, 0.8927897998978597),\n",
       "    'margin': 0.0016309708098707354},\n",
       "   'f1-score': {'mean': 0.9180855497168394,\n",
       "    'std_dev': 0.001294500584715234,\n",
       "    '95% CI': (0.917109428460162, 0.9190616709735169),\n",
       "    'margin': 0.0009761212566774535}},\n",
       "  'weighted avg': {'precision': {'mean': 0.9744519555573576,\n",
       "    'std_dev': 0.00037665304656984256,\n",
       "    '95% CI': (0.974167939428288, 0.9747359716864272),\n",
       "    'margin': 0.0002840161290695864},\n",
       "   'recall': {'mean': 0.9752013224445152,\n",
       "    'std_dev': 0.00035399982581795853,\n",
       "    '95% CI': (0.9749343880306408, 0.9754682568583896),\n",
       "    'margin': 0.00026693441387437566},\n",
       "   'f1-score': {'mean': 0.974332234993555,\n",
       "    'std_dev': 0.0003852903033170114,\n",
       "    '95% CI': (0.9740417059204127, 0.9746227640666973),\n",
       "    'margin': 0.00029052907314230936}}})"
      ]
     },
     "execution_count": 17,
     "metadata": {},
     "output_type": "execute_result"
    },
    {
     "data": {
      "image/png": "[encoded data removed]",
      "text/plain": [
       "<Figure size 300x300 with 1 Axes>"
      ]
     },
     "metadata": {},
     "output_type": "display_data"
    }
   ],
   "source": [
    "stratified_k_fold_evaluation(\n",
    "    model=XGBClassifier(n_jobs=-1, random_state=0), \n",
    "    data=data, \n",
    "    labels_ohe=labels_ohe, \n",
    "    k=10, \n",
    "    path_save=join(paths['results'], 'models'), \n",
    "    dir_name=f'{dataset_name}-XGBClassifier-KFold10')"
   ]
  },
  {
   "cell_type": "code",
   "execution_count": null,
   "metadata": {},
   "outputs": [],
   "source": []
  }
 ],
 "metadata": {
  "kernelspec": {
   "display_name": "mh",
   "language": "python",
   "name": "python3"
  },
  "language_info": {
   "codemirror_mode": {
    "name": "ipython",
    "version": 3
   },
   "file_extension": ".py",
   "mimetype": "text/x-python",
   "name": "python",
   "nbconvert_exporter": "python",
   "pygments_lexer": "ipython3",
   "version": "3.12.0"
  }
 },
 "nbformat": 4,
 "nbformat_minor": 2
}
